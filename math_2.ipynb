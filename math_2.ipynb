{
 "cells": [
  {
   "cell_type": "code",
   "execution_count": 1,
   "metadata": {},
   "outputs": [],
   "source": [
    "import numpy as np"
   ]
  },
  {
   "cell_type": "markdown",
   "metadata": {},
   "source": [
    "## Задания к уроку 4\n",
    "### 1. Напишите код, моделирующий выпадение поля в рулетке (с учетом поля зеро)."
   ]
  },
  {
   "cell_type": "code",
   "execution_count": 2,
   "metadata": {},
   "outputs": [
    {
     "name": "stdout",
     "output_type": "stream",
     "text": [
      "2\n",
      "14\n",
      "7\n",
      "0\n",
      "8\n"
     ]
    }
   ],
   "source": [
    "ROUULETTE_FIELDS_COUNT = 37\n",
    "def get_roulette_field():\n",
    "    return np.random.randint(0, ROUULETTE_FIELDS_COUNT+1)\n",
    "for i in range(5):\n",
    "    print(get_roulette_field())"
   ]
  },
  {
   "cell_type": "markdown",
   "metadata": {},
   "source": [
    "## 2. \n",
    "### Напишите код, проверяющий любую из теорем сложения или умножения вероятности на примере подбрасывания монетки."
   ]
  },
  {
   "cell_type": "code",
   "execution_count": 3,
   "metadata": {},
   "outputs": [
    {
     "name": "stdout",
     "output_type": "stream",
     "text": [
      "False\n"
     ]
    }
   ],
   "source": [
    "def avers():\n",
    "    return np.random.randint(0, 2) == 0\n",
    "print(avers())"
   ]
  },
  {
   "cell_type": "code",
   "execution_count": 4,
   "metadata": {},
   "outputs": [
    {
     "name": "stdout",
     "output_type": "stream",
     "text": [
      "P(1)=0.4984(expect 0.5), P(0)=0.5016(expect 0.5), P(1+0)=1.0(expect 1)\n"
     ]
    }
   ],
   "source": [
    "EXPERIMENTS = 10000\n",
    "averses, reverses = 0, 0\n",
    "for i in range(EXPERIMENTS):\n",
    "    if avers():\n",
    "        averses += 1\n",
    "    else:\n",
    "        reverses += 1\n",
    "P1 = averses/EXPERIMENTS\n",
    "P2 = reverses/EXPERIMENTS\n",
    "print(f\"P(1)={P1}(expect 0.5), P(0)={P2}(expect 0.5), P(1+0)={P1+P2}(expect 1)\")"
   ]
  },
  {
   "cell_type": "markdown",
   "metadata": {},
   "source": [
    "### Сгенерируйте десять выборок случайных чисел х0, …, х9. и постройте гистограмму распределения случайной суммы х0+х1+ …+ х9."
   ]
  },
  {
   "cell_type": "code",
   "execution_count": 5,
   "metadata": {},
   "outputs": [],
   "source": [
    "import matplotlib.pyplot as plt\n",
    "%matplotlib inline"
   ]
  },
  {
   "cell_type": "code",
   "execution_count": 6,
   "metadata": {},
   "outputs": [
    {
     "data": {
      "image/png": "[encoded data removed]",
      "text/plain": [
       "<Figure size 432x288 with 1 Axes>"
      ]
     },
     "metadata": {
      "needs_background": "light"
     },
     "output_type": "display_data"
    }
   ],
   "source": [
    "X = [[np.random.random() for _ in range(EXPERIMENTS)] for _ in range(10)]\n",
    "y = np.sum(X, axis=0)\n",
    "n, bins, patches = plt.hist(y, bins=20)"
   ]
  },
  {
   "cell_type": "markdown",
   "metadata": {},
   "source": [
    "## 3.\n",
    "### Дополните код Монте-Карло последовательности независимых испытаний расчетом соответствующих вероятностей (через биномиальное распределение) и сравните результаты."
   ]
  },
  {
   "cell_type": "code",
   "execution_count": 7,
   "metadata": {},
   "outputs": [
    {
     "name": "stdout",
     "output_type": "stream",
     "text": [
      "3776 10000 0.3776\n"
     ]
    }
   ],
   "source": [
    "k, n = 0, 10000\n",
    "a = np.random.randint(0, 2, n)\n",
    "b = np.random.randint(0, 2, n)\n",
    "c = np.random.randint(0, 2, n)\n",
    "d = np.random.randint(0, 2, n)\n",
    "x = a + b + c + d\n",
    "for i in range(0, n):\n",
    "    if x[i] == 2:\n",
    "        k = k + 1\n",
    "#print(a, b, c, d)\n",
    "#print(x)\n",
    "print(k, n, k/n)"
   ]
  },
  {
   "cell_type": "code",
   "execution_count": 8,
   "metadata": {},
   "outputs": [],
   "source": [
    "# import itertools\n",
    "from math import factorial as fac"
   ]
  },
  {
   "cell_type": "code",
   "execution_count": 9,
   "metadata": {},
   "outputs": [
    {
     "name": "stdout",
     "output_type": "stream",
     "text": [
      "0.375 0.3776\n"
     ]
    }
   ],
   "source": [
    "def binomial(x, y):\n",
    "    try:\n",
    "        binom = fac(x) // fac(y) // fac(x - y)\n",
    "    except ValueError:\n",
    "        binom = 0\n",
    "    return binom\n",
    "print(binomial(4, 2)/2**4, k/n)"
   ]
  },
  {
   "cell_type": "markdown",
   "metadata": {},
   "source": [
    "#### Повторите расчеты, взяв другие значения n и k."
   ]
  },
  {
   "cell_type": "code",
   "execution_count": 10,
   "metadata": {},
   "outputs": [
    {
     "name": "stdout",
     "output_type": "stream",
     "text": [
      "0.091644287109375 0.09121\n"
     ]
    }
   ],
   "source": [
    "k, n = 0, 100000\n",
    "EXPNUM = 15\n",
    "exp = [np.random.randint(0, 2, n) for _ in range(EXPNUM)]\n",
    "y = np.sum(exp, axis=0)\n",
    "\n",
    "for i in range(0, n):\n",
    "    if y[i] == 5:\n",
    "        k = k + 1\n",
    "#print(a, b, c, d)\n",
    "#print(x)\n",
    "# print(k, n, k/n)\n",
    "print(binomial(EXPNUM, 5)/2**EXPNUM, k/n)"
   ]
  },
  {
   "cell_type": "markdown",
   "metadata": {},
   "source": [
    "### 4. Повторите расчеты, взяв другие значения n и k."
   ]
  },
  {
   "cell_type": "code",
   "execution_count": 11,
   "metadata": {},
   "outputs": [],
   "source": [
    "import itertools"
   ]
  },
  {
   "cell_type": "code",
   "execution_count": 12,
   "metadata": {},
   "outputs": [
    {
     "name": "stdout",
     "output_type": "stream",
     "text": [
      "0 ABC\n",
      "1 ACB\n",
      "2 BAC\n",
      "3 BCA\n",
      "4 CAB\n",
      "5 CBA\n"
     ]
    }
   ],
   "source": [
    "for indx, mut in enumerate(itertools.permutations(\"ABC\", 3)):\n",
    "    print(indx, ''.join(str(x) for x in mut))"
   ]
  },
  {
   "cell_type": "code",
   "execution_count": 13,
   "metadata": {},
   "outputs": [
    {
     "name": "stdout",
     "output_type": "stream",
     "text": [
      "0 AB\n",
      "1 AC\n",
      "2 Ad\n",
      "3 BC\n",
      "4 Bd\n",
      "5 Cd\n"
     ]
    }
   ],
   "source": [
    "for indx, mut in enumerate(itertools.combinations(\"ABCd\", 2)):\n",
    "    print(indx, ''.join(str(x) for x in mut))"
   ]
  },
  {
   "cell_type": "markdown",
   "metadata": {},
   "source": [
    "### 5. Дополните код расчетом коэффициента корреляции x и y по формуле"
   ]
  },
  {
   "cell_type": "code",
   "execution_count": 14,
   "metadata": {},
   "outputs": [],
   "source": [
    "import numpy as np\n",
    "import matplotlib.pyplot as plt"
   ]
  },
  {
   "cell_type": "code",
   "execution_count": 15,
   "metadata": {},
   "outputs": [
    {
     "data": {
      "image/png": "[encoded data removed]",
      "text/plain": [
       "<Figure size 432x288 with 1 Axes>"
      ]
     },
     "metadata": {
      "needs_background": "light"
     },
     "output_type": "display_data"
    },
    {
     "name": "stdout",
     "output_type": "stream",
     "text": [
      "[[1.         0.71109762]\n",
      " [0.71109762 1.        ]]\n"
     ]
    }
   ],
   "source": [
    "n = 1000\n",
    "r = 0.5\n",
    "x = np.random.rand(n)\n",
    "y = r*x + (1 - r)*np.random.rand(n)\n",
    "plt.plot(x, y, 'o')\n",
    "plt.xlabel('x')\n",
    "plt.ylabel('y')\n",
    "plt.grid(True)\n",
    "plt.show()\n",
    "c = np.corrcoef(x, y) \n",
    "print(c)"
   ]
  },
  {
   "cell_type": "code",
   "execution_count": 16,
   "metadata": {},
   "outputs": [
    {
     "name": "stdout",
     "output_type": "stream",
     "text": [
      "0.7110976178304598 0.71109761783046\n"
     ]
    }
   ],
   "source": [
    "x_mean = np.mean(x)\n",
    "y_mean = np.mean(y)\n",
    "S, x2, y2 = 0, 0, 0\n",
    "for i in zip(x, y):\n",
    "    S = S + (i[0]-x_mean)*(i[1]-y_mean)\n",
    "    x2 = x2 + (i[0]-x_mean)**2\n",
    "    y2 = y2 + (i[1]-y_mean)**2\n",
    "\n",
    "R = S/np.sqrt(x2*y2)\n",
    "print(R, np.corrcoef(x, y)[0][1])\n"
   ]
  }
 ],
 "metadata": {
  "kernelspec": {
   "display_name": "Python 3",
   "language": "python",
   "name": "python3"
  },
  "language_info": {
   "codemirror_mode": {
    "name": "ipython",
    "version": 3
   },
   "file_extension": ".py",
   "mimetype": "text/x-python",
   "name": "python",
   "nbconvert_exporter": "python",
   "pygments_lexer": "ipython3",
   "version": "3.7.1"
  }
 },
 "nbformat": 4,
 "nbformat_minor": 2
}
