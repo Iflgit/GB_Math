{
 "cells": [
  {
   "cell_type": "code",
   "execution_count": 5,
   "metadata": {},
   "outputs": [],
   "source": [
    "import numpy as np"
   ]
  },
  {
   "cell_type": "markdown",
   "metadata": {},
   "source": [
    "## Задания к уроку 4\n",
    "### 1. Напишите код, моделирующий выпадение поля в рулетке (с учетом поля зеро)."
   ]
  },
  {
   "cell_type": "code",
   "execution_count": 138,
   "metadata": {},
   "outputs": [
    {
     "name": "stdout",
     "output_type": "stream",
     "text": [
      "15\n",
      "35\n",
      "10\n",
      "35\n",
      "28\n"
     ]
    }
   ],
   "source": [
    "ROUULETTE_FIELDS_COUNT = 37\n",
    "def get_roulette_field():\n",
    "    return np.random.randint(0, ROUULETTE_FIELDS_COUNT+1)\n",
    "for i in range(5):\n",
    "    print(get_roulette_field())"
   ]
  },
  {
   "cell_type": "markdown",
   "metadata": {},
   "source": [
    "## 2. \n",
    "### Напишите код, проверяющий любую из теорем сложения или умножения вероятности на примере подбрасывания монетки."
   ]
  },
  {
   "cell_type": "code",
   "execution_count": 86,
   "metadata": {},
   "outputs": [
    {
     "name": "stdout",
     "output_type": "stream",
     "text": [
      "True\n"
     ]
    }
   ],
   "source": [
    "def avers():\n",
    "    return np.random.randint(0, 2) == 0\n",
    "print(avers())"
   ]
  },
  {
   "cell_type": "code",
   "execution_count": 120,
   "metadata": {},
   "outputs": [
    {
     "name": "stdout",
     "output_type": "stream",
     "text": [
      "P(1)=0.5018(expect 0.5), P(0)=0.4982(expect 0.5), P(1+0)=1.0(expect 1)\n"
     ]
    }
   ],
   "source": [
    "EXPERIMENTS = 10000\n",
    "averses, reverses = 0, 0\n",
    "for i in range(EXPERIMENTS):\n",
    "    if avers():\n",
    "        averses += 1\n",
    "    else:\n",
    "        reverses += 1\n",
    "P1 = averses/EXPERIMENTS\n",
    "P2 = reverses/EXPERIMENTS\n",
    "print(f\"P(1)={P1}(expect 0.5), P(0)={P2}(expect 0.5), P(1+0)={P1+P2}(expect 1)\")"
   ]
  },
  {
   "cell_type": "markdown",
   "metadata": {},
   "source": [
    "### Сгенерируйте десять выборок случайных чисел х0, …, х9. и постройте гистограмму распределения случайной суммы х0+х1+ …+ х9."
   ]
  },
  {
   "cell_type": "code",
   "execution_count": 121,
   "metadata": {},
   "outputs": [],
   "source": [
    "import matplotlib.pyplot as plt\n",
    "%matplotlib inline"
   ]
  },
  {
   "cell_type": "code",
   "execution_count": 132,
   "metadata": {},
   "outputs": [
    {
     "data": {
      "image/png": "[encoded data removed]",
      "text/plain": [
       "<Figure size 432x288 with 1 Axes>"
      ]
     },
     "metadata": {
      "needs_background": "light"
     },
     "output_type": "display_data"
    }
   ],
   "source": [
    "X = [[np.random.random() for _ in range(EXPERIMENTS)] for _ in range(10)]\n",
    "y = np.sum(X, axis=0)\n",
    "n, bins, patches = plt.hist(y, bins=20)"
   ]
  },
  {
   "cell_type": "markdown",
   "metadata": {},
   "source": [
    "## 3.\n",
    "### Дополните код Монте-Карло последовательности независимых испытаний расчетом соответствующих вероятностей (через биномиальное распределение) и сравните результаты."
   ]
  },
  {
   "cell_type": "code",
   "execution_count": 148,
   "metadata": {},
   "outputs": [
    {
     "name": "stdout",
     "output_type": "stream",
     "text": [
      "3680 10000 0.368\n"
     ]
    }
   ],
   "source": [
    "k, n = 0, 10000\n",
    "a = np.random.randint(0, 2, n)\n",
    "b = np.random.randint(0, 2, n)\n",
    "c = np.random.randint(0, 2, n)\n",
    "d = np.random.randint(0, 2, n)\n",
    "x = a + b + c + d\n",
    "for i in range(0, n):\n",
    "    if x[i] == 2:\n",
    "        k = k + 1\n",
    "#print(a, b, c, d)\n",
    "#print(x)\n",
    "print(k, n, k/n)"
   ]
  },
  {
   "cell_type": "code",
   "execution_count": 142,
   "metadata": {},
   "outputs": [],
   "source": [
    "# import itertools\n",
    "from math import factorial as fac"
   ]
  },
  {
   "cell_type": "code",
   "execution_count": 149,
   "metadata": {},
   "outputs": [
    {
     "name": "stdout",
     "output_type": "stream",
     "text": [
      "0.375 0.368\n"
     ]
    }
   ],
   "source": [
    "def binomial(x, y):\n",
    "    try:\n",
    "        binom = fac(x) // fac(y) // fac(x - y)\n",
    "    except ValueError:\n",
    "        binom = 0\n",
    "    return binom\n",
    "print(binomial(4, 2)/2**4, k/n)"
   ]
  },
  {
   "cell_type": "markdown",
   "metadata": {},
   "source": [
    "#### Повторите расчеты, взяв другие значения n и k."
   ]
  },
  {
   "cell_type": "code",
   "execution_count": 158,
   "metadata": {},
   "outputs": [
    {
     "name": "stdout",
     "output_type": "stream",
     "text": [
      "0.091644287109375 0.09174\n"
     ]
    }
   ],
   "source": [
    "k, n = 0, 100000\n",
    "EXPNUM = 15\n",
    "exp = [np.random.randint(0, 2, n) for _ in range(EXPNUM)]\n",
    "y = np.sum(exp, axis=0)\n",
    "\n",
    "for i in range(0, n):\n",
    "    if y[i] == 5:\n",
    "        k = k + 1\n",
    "#print(a, b, c, d)\n",
    "#print(x)\n",
    "# print(k, n, k/n)\n",
    "print(binomial(EXPNUM, 5)/2**EXPNUM, k/n)"
   ]
  },
  {
   "cell_type": "code",
   "execution_count": null,
   "metadata": {},
   "outputs": [],
   "source": []
  }
 ],
 "metadata": {
  "kernelspec": {
   "display_name": "Python 3",
   "language": "python",
   "name": "python3"
  },
  "language_info": {
   "codemirror_mode": {
    "name": "ipython",
    "version": 3
   },
   "file_extension": ".py",
   "mimetype": "text/x-python",
   "name": "python",
   "nbconvert_exporter": "python",
   "pygments_lexer": "ipython3",
   "version": "3.7.1"
  }
 },
 "nbformat": 4,
 "nbformat_minor": 2
}
